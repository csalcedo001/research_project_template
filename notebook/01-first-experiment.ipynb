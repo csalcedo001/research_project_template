{
 "cells": [
  {
   "cell_type": "markdown",
   "id": "tribal-channel",
   "metadata": {},
   "source": [
    "# First experiment\n",
    "\n",
    "This is the first experiment of the main course of research followed throughout the research project. It comprises useful information as well as code sections that present and/or explain some phenomenon."
   ]
  }
 ],
 "metadata": {
  "kernelspec": {
   "display_name": "Python 3",
   "language": "python",
   "name": "python3"
  },
  "language_info": {
   "codemirror_mode": {
    "name": "ipython",
    "version": 3
   },
   "file_extension": ".py",
   "mimetype": "text/x-python",
   "name": "python",
   "nbconvert_exporter": "python",
   "pygments_lexer": "ipython3",
   "version": "3.8.5"
  }
 },
 "nbformat": 4,
 "nbformat_minor": 5
}
