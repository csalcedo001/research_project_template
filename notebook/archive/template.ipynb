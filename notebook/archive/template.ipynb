{
 "cells": [
  {
   "cell_type": "markdown",
   "id": "tribal-channel",
   "metadata": {},
   "source": [
    "# First experiment\n",
    "\n",
    "This is the first experiment of the main course of research followed throughout the research project. It comprises useful information as well as code sections that present and/or explain some phenomenon.\n",
    "\n",
    "## Libraries"
   ]
  },
  {
   "cell_type": "code",
   "execution_count": 1,
   "id": "immediate-simulation",
   "metadata": {},
   "outputs": [],
   "source": [
    "import matplotlib.pyplot as plt\n",
    "import torch\n",
    "import torch.nn as nn\n",
    "import torch.optim as optim\n",
    "from torch.utils.data import DataLoader\n",
    "from tqdm import tqdm\n",
    "\n",
    "# Project library\n",
    "import research_project_name as project"
   ]
  },
  {
   "cell_type": "markdown",
   "id": "reduced-commissioner",
   "metadata": {},
   "source": [
    "## Parameters"
   ]
  },
  {
   "cell_type": "code",
   "execution_count": 8,
   "id": "dangerous-hybrid",
   "metadata": {},
   "outputs": [],
   "source": [
    "# Path where dataset is stored\n",
    "data_dir = \"~/Documents/datasets\"\n",
    "\n",
    "# Path where experiment outpust will be saved\n",
    "runs_dir = \"/Users/cesar.salcedo/Documents/research/image_comparison_classifier/runs\"\n",
    "\n",
    "# Image size\n",
    "image_size = 64\n",
    "\n",
    "# Images per batch during training\n",
    "batch_size = 64\n",
    "\n",
    "# Number of image channels\n",
    "nc = 3\n",
    "\n",
    "# Number of training epochs\n",
    "epochs = 1\n",
    "\n",
    "# Learning rate\n",
    "lr = 0.002\n",
    "\n",
    "# Number of workers\n",
    "workers = 2"
   ]
  },
  {
   "cell_type": "markdown",
   "id": "norwegian-korean",
   "metadata": {},
   "source": [
    "### Computed parameters"
   ]
  },
  {
   "cell_type": "code",
   "execution_count": 11,
   "id": "arabic-green",
   "metadata": {},
   "outputs": [
    {
     "name": "stdout",
     "output_type": "stream",
     "text": [
      "../runs/2021-03-14_11-06-31\n"
     ]
    }
   ],
   "source": [
    "save_dir = project.storage.directory.get_subdirectory_by_time(runs_dir)\n",
    "print(save_dir)\n",
    "\n",
    "project.storage.directory.setup(save_dir)"
   ]
  },
  {
   "cell_type": "markdown",
   "id": "specific-clearance",
   "metadata": {},
   "source": [
    "## Data"
   ]
  },
  {
   "cell_type": "code",
   "execution_count": null,
   "id": "specified-baptist",
   "metadata": {},
   "outputs": [],
   "source": [
    "dataset = project.data.image.load_dataset(data_dir, \"mnist\", image_size=image_size, num_channels=nc)\n",
    "dataloader = DataLoader(dataset, batch_size=batch_size, shuffle=True, num_workers=workers)\n",
    "\n",
    "batch = next(iter(dataloader))[0]\n",
    "\n",
    "print(\"Batch shape: {}\".format(batch.shape))\n",
    "\n",
    "fig = plt.figure(figsize=(8, 8))\n",
    "project.plot.image.plot_grid_from_batch(batch, title=\"Dataset samples\")\n",
    "plt.show()\n",
    "plt.close(fig)"
   ]
  },
  {
   "cell_type": "markdown",
   "id": "velvet-train",
   "metadata": {},
   "source": [
    "## Model"
   ]
  },
  {
   "cell_type": "code",
   "execution_count": null,
   "id": "norwegian-sister",
   "metadata": {},
   "outputs": [],
   "source": [
    "class Model(nn.Model):\n",
    "    def __init__(self):\n",
    "        super(Model, self).__init__()\n",
    "    \n",
    "    def forward(self, input):\n",
    "        return input"
   ]
  },
  {
   "cell_type": "code",
   "execution_count": null,
   "id": "immediate-mortgage",
   "metadata": {},
   "outputs": [],
   "source": [
    "model = Model()"
   ]
  },
  {
   "cell_type": "markdown",
   "id": "fifty-choir",
   "metadata": {},
   "source": [
    "## Training\n",
    "\n",
    "### Optimizer and criterion"
   ]
  },
  {
   "cell_type": "code",
   "execution_count": null,
   "id": "nearby-papua",
   "metadata": {},
   "outputs": [],
   "source": [
    "criterion = nn.CrossEntropyLoss()\n",
    "optimizer = optim.Adam(model.parameters(), lr=lr)"
   ]
  },
  {
   "cell_type": "markdown",
   "id": "grand-reward",
   "metadata": {},
   "source": [
    "### Training loop"
   ]
  },
  {
   "cell_type": "code",
   "execution_count": null,
   "id": "controlled-stand",
   "metadata": {},
   "outputs": [],
   "source": [
    "losses = []\n",
    "\n",
    "pbar = tqdm(total=epochs * len(dataloader))\n",
    "\n",
    "for epoch in range(epochs):\n",
    "    for iteration, batch in enumerate(dataloader, 1):\n",
    "        optimizer.zero_grad()\n",
    "        \n",
    "        x, y = batch\n",
    "        y_hat = model(x)\n",
    "        \n",
    "        error = criterion(y_hat, y)\n",
    "        \n",
    "        loss = error.item()\n",
    "        losses.append(loss)\n",
    "\n",
    "        error.backward()\n",
    "        optimizer.step()\n",
    "\n",
    "        pbar.set_description(\"Loss: {}\".format(loss))\n",
    "        pbar.update(1)"
   ]
  },
  {
   "cell_type": "code",
   "execution_count": null,
   "id": "painful-bolivia",
   "metadata": {},
   "outputs": [],
   "source": [
    "fig = plt.figure(figsize=(10, 7))\n",
    "project.plot.training.plot_loss([losses], labels=[\"Model\"])\n",
    "project.storage.plot.save_plot(save_dir, name=\"training_loss\")\n",
    "plt.show()\n",
    "plt.close(fig)"
   ]
  },
  {
   "cell_type": "code",
   "execution_count": null,
   "id": "informational-disposal",
   "metadata": {},
   "outputs": [],
   "source": [
    "project.storage.model.save_model(save_dir, \"model\", model)"
   ]
  }
 ],
 "metadata": {
  "kernelspec": {
   "display_name": "Python 3",
   "language": "python",
   "name": "python3"
  },
  "language_info": {
   "codemirror_mode": {
    "name": "ipython",
    "version": 3
   },
   "file_extension": ".py",
   "mimetype": "text/x-python",
   "name": "python",
   "nbconvert_exporter": "python",
   "pygments_lexer": "ipython3",
   "version": "3.8.8"
  }
 },
 "nbformat": 4,
 "nbformat_minor": 5
}
