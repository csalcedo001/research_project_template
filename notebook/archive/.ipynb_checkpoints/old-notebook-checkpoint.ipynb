{
 "cells": [
  {
   "cell_type": "markdown",
   "id": "adjustable-puzzle",
   "metadata": {},
   "source": [
    "# Old notebook\n",
    "\n",
    "This notebook has content that is no longer part of the main branch of development of the project, although it still has code sections that may be useful in the future. For this reason, it is saved in a sub-folder of archived noetbooks.\n",
    "\n",
    "## Libraries"
   ]
  },
  {
   "cell_type": "code",
   "execution_count": 14,
   "id": "checked-building",
   "metadata": {},
   "outputs": [],
   "source": [
    "import matplotlib.pyplot as plt\n",
    "import torch\n",
    "from torch.utils.data import DataLoader\n",
    "\n",
    "# Project library\n",
    "import research_project_name as project"
   ]
  },
  {
   "cell_type": "markdown",
   "id": "global-scratch",
   "metadata": {},
   "source": [
    "## Parameters"
   ]
  },
  {
   "cell_type": "code",
   "execution_count": 3,
   "id": "acoustic-precipitation",
   "metadata": {},
   "outputs": [],
   "source": [
    "dataroot = \"~/Documents/datasets/\"\n",
    "image_size = 64\n",
    "num_channels = 3\n",
    "batch_size = 64"
   ]
  },
  {
   "cell_type": "markdown",
   "id": "three-democracy",
   "metadata": {},
   "source": [
    "## Data"
   ]
  },
  {
   "cell_type": "code",
   "execution_count": null,
   "id": "macro-strain",
   "metadata": {},
   "outputs": [],
   "source": [
    "dataset = project.data.image.load_dataset(dataroot, \"svhn\", image_size, num_channels)\n",
    "dataloader = DataLoader(dataset, batch_size=batch_size, shuffle=True, num_workers=2)\n",
    "\n",
    "batch = next(iter(dataloader))[0]\n",
    "\n",
    "print(\"Batch shape: {}\".format(batch.shape))\n",
    "\n",
    "fig = plt.figure(figsize=(15,10))\n",
    "plt.subplot(1, 2, 1)\n",
    "project.plot.dataset.plot_grid_from_batch(batch, title=\"Batch grid\")\n",
    "\n",
    "plt.subplot(1, 2, 2)\n",
    "project.plot.dataset.plot_sample(batch)\n",
    "\n",
    "plt.show()\n",
    "plt.close(fig)"
   ]
  },
  {
   "cell_type": "code",
   "execution_count": null,
   "id": "nearby-elder",
   "metadata": {},
   "outputs": [],
   "source": []
  }
 ],
 "metadata": {
  "kernelspec": {
   "display_name": "Python 3",
   "language": "python",
   "name": "python3"
  },
  "language_info": {
   "codemirror_mode": {
    "name": "ipython",
    "version": 3
   },
   "file_extension": ".py",
   "mimetype": "text/x-python",
   "name": "python",
   "nbconvert_exporter": "python",
   "pygments_lexer": "ipython3",
   "version": "3.8.8"
  }
 },
 "nbformat": 4,
 "nbformat_minor": 5
}
