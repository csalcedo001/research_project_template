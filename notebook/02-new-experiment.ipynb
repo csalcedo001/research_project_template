{
 "cells": [
  {
   "cell_type": "markdown",
   "id": "great-borough",
   "metadata": {},
   "source": [
    "# New experiment\n",
    "\n",
    "Subsequent notebooks can be added to the principal flow of research ideas. In this case, the notebook presents a new experiment which could bring new observations or explanations to the previous notebook. The index of the notebook is updated accordingly"
   ]
  }
 ],
 "metadata": {
  "kernelspec": {
   "display_name": "Python 3",
   "language": "python",
   "name": "python3"
  },
  "language_info": {
   "codemirror_mode": {
    "name": "ipython",
    "version": 3
   },
   "file_extension": ".py",
   "mimetype": "text/x-python",
   "name": "python",
   "nbconvert_exporter": "python",
   "pygments_lexer": "ipython3",
   "version": "3.8.5"
  }
 },
 "nbformat": 4,
 "nbformat_minor": 5
}
