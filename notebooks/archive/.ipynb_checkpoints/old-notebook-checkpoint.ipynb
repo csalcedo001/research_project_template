{
 "cells": [
  {
   "cell_type": "markdown",
   "id": "adjustable-puzzle",
   "metadata": {},
   "source": [
    "# Old notebook\n",
    "\n",
    "This notebook has content that is no longer part of the main branch of development of the project, although it still has code sections that may be useful in the future. For this reason, it is saved in a sub-folder of archived noetbooks."
   ]
  }
 ],
 "metadata": {
  "kernelspec": {
   "display_name": "Python 3",
   "language": "python",
   "name": "python3"
  },
  "language_info": {
   "codemirror_mode": {
    "name": "ipython",
    "version": 3
   },
   "file_extension": ".py",
   "mimetype": "text/x-python",
   "name": "python",
   "nbconvert_exporter": "python",
   "pygments_lexer": "ipython3",
   "version": "3.8.5"
  }
 },
 "nbformat": 4,
 "nbformat_minor": 5
}
